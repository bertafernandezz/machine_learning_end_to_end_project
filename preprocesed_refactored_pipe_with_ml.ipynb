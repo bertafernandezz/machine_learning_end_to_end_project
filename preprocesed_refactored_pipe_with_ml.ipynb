{
 "cells": [
  {
   "cell_type": "code",
   "execution_count": 1,
   "metadata": {},
   "outputs": [],
   "source": [
    "from utils.transformations import ExtendedTransformation, SimpleTransformation\n",
    "from utils.filters import SimpleFilter\n",
    "import pandas as pd\n",
    "import numpy as np"
   ]
  },
  {
   "cell_type": "markdown",
   "metadata": {},
   "source": [
    "## Data Loading\n",
    "Load and prepare the training data:\n",
    "- Read preprocessed train data from CSV\n",
    "- Split features (X_train) and target variable (y_train)"
   ]
  },
  {
   "cell_type": "code",
   "execution_count": 2,
   "metadata": {},
   "outputs": [],
   "source": [
    "df_train = pd.read_csv(\"data/preprocessed/train_data.csv\")\n",
    "X_train, y_train = df_train.drop(columns=['Price']), df_train[['Price']]"
   ]
  },
  {
   "cell_type": "markdown",
   "metadata": {},
   "source": [
    "## Initialize Preprocessing Components\n",
    "Set up preprocessing components:\n",
    "- ExtendedTransformation for complex feature engineering\n",
    "- SimpleFilter for feature selection"
   ]
  },
  {
   "cell_type": "code",
   "execution_count": 3,
   "metadata": {},
   "outputs": [],
   "source": [
    "preprocessor = ExtendedTransformation()\n",
    "filter = SimpleFilter()"
   ]
  },
  {
   "cell_type": "markdown",
   "metadata": {},
   "source": [
    "## Fit Preprocessor\n",
    "Fit the preprocessor to learn data characteristics:\n",
    "- Analyzes feature distributions and relationships\n",
    "- Prepares for transformation"
   ]
  },
  {
   "cell_type": "code",
   "execution_count": 4,
   "metadata": {},
   "outputs": [
    {
     "name": "stdout",
     "output_type": "stream",
     "text": [
      "X shape:  (20974, 40)\n",
      "bin_vars_columns shape:  (36,)\n",
      "low_card_columns shape:  37\n"
     ]
    }
   ],
   "source": [
    "preprocessor.fit(X_train, y_train)"
   ]
  },
  {
   "cell_type": "markdown",
   "metadata": {},
   "source": [
    "## Apply Data Transformation\n",
    "Execute the preprocessing pipeline:\n",
    "- Transforms raw features into engineered features\n",
    "- Includes feature scaling, encoding, and feature crossing\n",
    "- Outputs processed features (X_processed) and target (y_processed)"
   ]
  },
  {
   "cell_type": "code",
   "execution_count": 5,
   "metadata": {},
   "outputs": [
    {
     "name": "stdout",
     "output_type": "stream",
     "text": [
      "X shape:  (20974, 40)\n",
      "X_low_card   shape:  (20974, 113)\n",
      "X_high_card shape:  (20974, 50)\n",
      "X_crossed_features shape:  (20974, 6670)\n",
      "X_EXPANDED shape:  (20974, 6835)\n"
     ]
    }
   ],
   "source": [
    "X_processed, y_processed = preprocessor.transform(X_train, y_train)"
   ]
  },
  {
   "cell_type": "markdown",
   "metadata": {},
   "source": [
    "## Examine Processed Data\n",
    "Display the first few rows of the processed test data:\n",
    "- Shows the structure and values of engineered features"
   ]
  },
  {
   "cell_type": "code",
   "execution_count": 6,
   "metadata": {},
   "outputs": [
    {
     "data": {
      "text/html": [
       "<div>\n",
       "<style scoped>\n",
       "    .dataframe tbody tr th:only-of-type {\n",
       "        vertical-align: middle;\n",
       "    }\n",
       "\n",
       "    .dataframe tbody tr th {\n",
       "        vertical-align: top;\n",
       "    }\n",
       "\n",
       "    .dataframe thead th {\n",
       "        text-align: right;\n",
       "    }\n",
       "</style>\n",
       "<table border=\"1\" class=\"dataframe\">\n",
       "  <thead>\n",
       "    <tr style=\"text-align: right;\">\n",
       "      <th></th>\n",
       "      <th>Area</th>\n",
       "      <th>No. of Bedrooms</th>\n",
       "      <th>city_Bangalore</th>\n",
       "      <th>city_Chennai</th>\n",
       "      <th>city_Delhi</th>\n",
       "      <th>city_Hyderabad</th>\n",
       "      <th>city_Kolkata</th>\n",
       "      <th>city_Mumbai</th>\n",
       "      <th>Resale_NO</th>\n",
       "      <th>Resale_SI</th>\n",
       "      <th>...</th>\n",
       "      <th>Stadium_NO Stadium_NO_DISPONIBLE</th>\n",
       "      <th>Stadium_NO Stadium_SI</th>\n",
       "      <th>Stadium_NO Area</th>\n",
       "      <th>Stadium_NO No. of Bedrooms</th>\n",
       "      <th>Stadium_NO_DISPONIBLE Stadium_SI</th>\n",
       "      <th>Stadium_NO_DISPONIBLE Area</th>\n",
       "      <th>Stadium_NO_DISPONIBLE No. of Bedrooms</th>\n",
       "      <th>Stadium_SI Area</th>\n",
       "      <th>Stadium_SI No. of Bedrooms</th>\n",
       "      <th>Area No. of Bedrooms</th>\n",
       "    </tr>\n",
       "  </thead>\n",
       "  <tbody>\n",
       "    <tr>\n",
       "      <th>0</th>\n",
       "      <td>0.693273</td>\n",
       "      <td>-0.552165</td>\n",
       "      <td>0.0</td>\n",
       "      <td>0.0</td>\n",
       "      <td>1.0</td>\n",
       "      <td>0.0</td>\n",
       "      <td>0.0</td>\n",
       "      <td>0.0</td>\n",
       "      <td>0.0</td>\n",
       "      <td>1.0</td>\n",
       "      <td>...</td>\n",
       "      <td>0.0</td>\n",
       "      <td>0.0</td>\n",
       "      <td>0.000000</td>\n",
       "      <td>-0.000000</td>\n",
       "      <td>0.0</td>\n",
       "      <td>0.000000</td>\n",
       "      <td>-0.000000</td>\n",
       "      <td>0.693273</td>\n",
       "      <td>-0.552165</td>\n",
       "      <td>-0.382801</td>\n",
       "    </tr>\n",
       "    <tr>\n",
       "      <th>1</th>\n",
       "      <td>0.983529</td>\n",
       "      <td>0.897222</td>\n",
       "      <td>1.0</td>\n",
       "      <td>0.0</td>\n",
       "      <td>0.0</td>\n",
       "      <td>0.0</td>\n",
       "      <td>0.0</td>\n",
       "      <td>0.0</td>\n",
       "      <td>1.0</td>\n",
       "      <td>0.0</td>\n",
       "      <td>...</td>\n",
       "      <td>0.0</td>\n",
       "      <td>0.0</td>\n",
       "      <td>0.000000</td>\n",
       "      <td>0.000000</td>\n",
       "      <td>0.0</td>\n",
       "      <td>0.983529</td>\n",
       "      <td>0.897222</td>\n",
       "      <td>0.000000</td>\n",
       "      <td>0.000000</td>\n",
       "      <td>0.882444</td>\n",
       "    </tr>\n",
       "    <tr>\n",
       "      <th>2</th>\n",
       "      <td>-0.417346</td>\n",
       "      <td>0.897222</td>\n",
       "      <td>0.0</td>\n",
       "      <td>0.0</td>\n",
       "      <td>1.0</td>\n",
       "      <td>0.0</td>\n",
       "      <td>0.0</td>\n",
       "      <td>0.0</td>\n",
       "      <td>0.0</td>\n",
       "      <td>1.0</td>\n",
       "      <td>...</td>\n",
       "      <td>0.0</td>\n",
       "      <td>0.0</td>\n",
       "      <td>-0.000000</td>\n",
       "      <td>0.000000</td>\n",
       "      <td>0.0</td>\n",
       "      <td>-0.417346</td>\n",
       "      <td>0.897222</td>\n",
       "      <td>-0.000000</td>\n",
       "      <td>0.000000</td>\n",
       "      <td>-0.374452</td>\n",
       "    </tr>\n",
       "    <tr>\n",
       "      <th>3</th>\n",
       "      <td>-1.331565</td>\n",
       "      <td>-0.552165</td>\n",
       "      <td>0.0</td>\n",
       "      <td>0.0</td>\n",
       "      <td>0.0</td>\n",
       "      <td>0.0</td>\n",
       "      <td>0.0</td>\n",
       "      <td>1.0</td>\n",
       "      <td>0.0</td>\n",
       "      <td>1.0</td>\n",
       "      <td>...</td>\n",
       "      <td>0.0</td>\n",
       "      <td>0.0</td>\n",
       "      <td>-1.331565</td>\n",
       "      <td>-0.552165</td>\n",
       "      <td>0.0</td>\n",
       "      <td>-0.000000</td>\n",
       "      <td>-0.000000</td>\n",
       "      <td>-0.000000</td>\n",
       "      <td>-0.000000</td>\n",
       "      <td>0.735243</td>\n",
       "    </tr>\n",
       "    <tr>\n",
       "      <th>4</th>\n",
       "      <td>0.317853</td>\n",
       "      <td>0.897222</td>\n",
       "      <td>0.0</td>\n",
       "      <td>1.0</td>\n",
       "      <td>0.0</td>\n",
       "      <td>0.0</td>\n",
       "      <td>0.0</td>\n",
       "      <td>0.0</td>\n",
       "      <td>1.0</td>\n",
       "      <td>0.0</td>\n",
       "      <td>...</td>\n",
       "      <td>0.0</td>\n",
       "      <td>0.0</td>\n",
       "      <td>0.317853</td>\n",
       "      <td>0.897222</td>\n",
       "      <td>0.0</td>\n",
       "      <td>0.000000</td>\n",
       "      <td>0.000000</td>\n",
       "      <td>0.000000</td>\n",
       "      <td>0.000000</td>\n",
       "      <td>0.285184</td>\n",
       "    </tr>\n",
       "  </tbody>\n",
       "</table>\n",
       "<p>5 rows × 6835 columns</p>\n",
       "</div>"
      ],
      "text/plain": [
       "       Area  No. of Bedrooms  city_Bangalore  city_Chennai  city_Delhi  \\\n",
       "0  0.693273        -0.552165             0.0           0.0         1.0   \n",
       "1  0.983529         0.897222             1.0           0.0         0.0   \n",
       "2 -0.417346         0.897222             0.0           0.0         1.0   \n",
       "3 -1.331565        -0.552165             0.0           0.0         0.0   \n",
       "4  0.317853         0.897222             0.0           1.0         0.0   \n",
       "\n",
       "   city_Hyderabad  city_Kolkata  city_Mumbai  Resale_NO  Resale_SI  ...  \\\n",
       "0             0.0           0.0          0.0        0.0        1.0  ...   \n",
       "1             0.0           0.0          0.0        1.0        0.0  ...   \n",
       "2             0.0           0.0          0.0        0.0        1.0  ...   \n",
       "3             0.0           0.0          1.0        0.0        1.0  ...   \n",
       "4             0.0           0.0          0.0        1.0        0.0  ...   \n",
       "\n",
       "   Stadium_NO Stadium_NO_DISPONIBLE  Stadium_NO Stadium_SI  Stadium_NO Area  \\\n",
       "0                               0.0                    0.0         0.000000   \n",
       "1                               0.0                    0.0         0.000000   \n",
       "2                               0.0                    0.0        -0.000000   \n",
       "3                               0.0                    0.0        -1.331565   \n",
       "4                               0.0                    0.0         0.317853   \n",
       "\n",
       "   Stadium_NO No. of Bedrooms  Stadium_NO_DISPONIBLE Stadium_SI  \\\n",
       "0                   -0.000000                               0.0   \n",
       "1                    0.000000                               0.0   \n",
       "2                    0.000000                               0.0   \n",
       "3                   -0.552165                               0.0   \n",
       "4                    0.897222                               0.0   \n",
       "\n",
       "   Stadium_NO_DISPONIBLE Area  Stadium_NO_DISPONIBLE No. of Bedrooms  \\\n",
       "0                    0.000000                              -0.000000   \n",
       "1                    0.983529                               0.897222   \n",
       "2                   -0.417346                               0.897222   \n",
       "3                   -0.000000                              -0.000000   \n",
       "4                    0.000000                               0.000000   \n",
       "\n",
       "   Stadium_SI Area  Stadium_SI No. of Bedrooms  Area No. of Bedrooms  \n",
       "0         0.693273                   -0.552165             -0.382801  \n",
       "1         0.000000                    0.000000              0.882444  \n",
       "2        -0.000000                    0.000000             -0.374452  \n",
       "3        -0.000000                   -0.000000              0.735243  \n",
       "4         0.000000                    0.000000              0.285184  \n",
       "\n",
       "[5 rows x 6835 columns]"
      ]
     },
     "execution_count": 6,
     "metadata": {},
     "output_type": "execute_result"
    }
   ],
   "source": [
    "X_processed.head()"
   ]
  },
  {
   "cell_type": "markdown",
   "metadata": {},
   "source": [
    "## Feature Selection\n",
    "Apply feature selection using SimpleFilter:\n",
    "- Fits the filter to the processed data\n",
    "- Identifies most relevant features for the model"
   ]
  },
  {
   "cell_type": "code",
   "execution_count": 7,
   "metadata": {},
   "outputs": [
    {
     "name": "stdout",
     "output_type": "stream",
     "text": [
      "(20974, 6835)\n",
      "(20974, 4173)\n",
      "(20974, 3193)\n",
      "(20974, 1635)\n"
     ]
    }
   ],
   "source": [
    "filter.fit(X_processed, y_processed)"
   ]
  },
  {
   "cell_type": "code",
   "execution_count": 8,
   "metadata": {},
   "outputs": [
    {
     "name": "stdout",
     "output_type": "stream",
     "text": [
      "(20974, 4173)\n",
      "(20974, 3193)\n",
      "(20974, 1635)\n"
     ]
    }
   ],
   "source": [
    "X_filtered, y_filtered = filter.transform(X_processed, y_processed)"
   ]
  },
  {
   "cell_type": "code",
   "execution_count": 9,
   "metadata": {},
   "outputs": [
    {
     "data": {
      "text/plain": [
       "(20974, 1635)"
      ]
     },
     "execution_count": 9,
     "metadata": {},
     "output_type": "execute_result"
    }
   ],
   "source": [
    "X_filtered.shape"
   ]
  },
  {
   "cell_type": "code",
   "execution_count": 10,
   "metadata": {},
   "outputs": [],
   "source": [
    "from sklearn.metrics import ( root_mean_squared_error, \n",
    "                             mean_absolute_error, \n",
    "                             mean_absolute_percentage_error )"
   ]
  },
  {
   "cell_type": "markdown",
   "metadata": {},
   "source": [
    "## Train Machine Learning Model\n",
    "Train a RandomForestRegressor:\n",
    "- Uses processed and filtered data\n",
    "- Configured with 500 estimators"
   ]
  },
  {
   "cell_type": "code",
   "execution_count": null,
   "metadata": {},
   "outputs": [
    {
     "name": "stderr",
     "output_type": "stream",
     "text": [
      "/Users/mmartin/opt/anaconda3/envs/modelizacion_datos/lib/python3.12/site-packages/sklearn/base.py:1473: DataConversionWarning: A column-vector y was passed when a 1d array was expected. Please change the shape of y to (n_samples,), for example using ravel().\n",
      "  return fit_method(estimator, *args, **kwargs)\n"
     ]
    }
   ],
   "source": [
    "from sklearn.ensemble import RandomForestRegressor\n",
    "rf_m_2 = RandomForestRegressor(500)\n",
    "rf_m_2.fit(X_filtered, y_filtered)"
   ]
  },
  {
   "cell_type": "markdown",
   "metadata": {},
   "source": [
    "## Evaluate Model Performance\n",
    "Calculate the R² score of the trained model:\n",
    "- Measures how well the model fits the training data\n",
    "- Provides a baseline for model performance"
   ]
  },
  {
   "cell_type": "code",
   "execution_count": null,
   "metadata": {},
   "outputs": [
    {
     "data": {
      "text/plain": [
       "0.8320713352254937"
      ]
     },
     "execution_count": 13,
     "metadata": {},
     "output_type": "execute_result"
    }
   ],
   "source": [
    "rf_m_2.score(X_filtered, y_filtered)"
   ]
  },
  {
   "cell_type": "markdown",
   "metadata": {},
   "source": [
    "## Load Test Dataset\n",
    "Prepare the test dataset:\n",
    "- Read from CSV file\n",
    "- Split features (X_test) and target variable (y_test)"
   ]
  },
  {
   "cell_type": "code",
   "execution_count": null,
   "metadata": {},
   "outputs": [],
   "source": [
    "df_test = pd.read_csv(\"data/preprocessed/test_data.csv\")\n",
    "X_test, y_test = df_test.drop(columns=['Price']), df_test[['Price']]"
   ]
  },
  {
   "cell_type": "markdown",
   "metadata": {},
   "source": [
    "## Process Test Data\n",
    "Apply the same preprocessing pipeline to test data:\n",
    "- Transform features using preprocessor\n",
    "- Apply feature selection using filter\n",
    "- Output processed and filtered test data"
   ]
  },
  {
   "cell_type": "code",
   "execution_count": null,
   "metadata": {},
   "outputs": [
    {
     "name": "stdout",
     "output_type": "stream",
     "text": [
      "X shape:  (8989, 40)\n",
      "X_low_card   shape:  (8989, 113)\n",
      "X_high_card shape:  (8989, 50)\n",
      "X_crossed_features shape:  (8989, 6670)\n",
      "X_EXPANDED shape:  (8989, 6835)\n",
      "(8989, 4173)\n",
      "(8989, 3193)\n",
      "(8989, 1635)\n"
     ]
    }
   ],
   "source": [
    "X_test_proccesed, y_test_proccessed = preprocessor.transform(X_test, y_test)\n",
    "X_test_filtered, y_test_filtered = filter.transform(X_test_proccesed, y_test_proccessed)"
   ]
  },
  {
   "cell_type": "markdown",
   "metadata": {},
   "source": [
    "## Generate Predictions\n",
    "- Use trained model to predict test data\n",
    "- Convert scaled predictions back to original scale"
   ]
  },
  {
   "cell_type": "code",
   "execution_count": 20,
   "metadata": {},
   "outputs": [
    {
     "name": "stderr",
     "output_type": "stream",
     "text": [
      "/Users/mmartin/opt/anaconda3/envs/modelizacion_datos/lib/python3.12/site-packages/sklearn/utils/validation.py:2739: UserWarning: X does not have valid feature names, but QuantileTransformer was fitted with feature names\n",
      "  warnings.warn(\n"
     ]
    }
   ],
   "source": [
    "y_hat = rf_m_2.predict(X_test_filtered)\n",
    "y_hat_unscaled = preprocessor.inverse_transform(y_hat.reshape(-1,1))"
   ]
  },
  {
   "cell_type": "markdown",
   "metadata": {},
   "source": [
    "## Calculate Performance Metrics\n",
    "Evaluate model performance on test data:\n",
    "- Root Mean Squared Error (RMSE)\n",
    "- Mean Absolute Error (MAE)\n",
    "- Mean Absolute Percentage Error (MAPE)"
   ]
  },
  {
   "cell_type": "code",
   "execution_count": 21,
   "metadata": {},
   "outputs": [
    {
     "name": "stdout",
     "output_type": "stream",
     "text": [
      "\n",
      "Model Performance Metrics:\n",
      "\n",
      "Metric                    Value\n",
      "------------------------------\n",
      "RMSE (₹)          25,065,272.48\n",
      "MAE (₹)            6,032,043.73\n",
      "MAPE (%)                 42.60%\n",
      "\n",
      "Interpretation:\n",
      "- RMSE: The model's predictions are typically off by ₹25,065,272.48 on average\n",
      "- MAE: The average absolute error is ₹6,032,043.73\n",
      "- MAPE: The predictions are off by 42.6% on average\n"
     ]
    }
   ],
   "source": [
    "y_true = y_test.values\n",
    "y_pred = y_hat_unscaled\n",
    "rmse = root_mean_squared_error(y_true, y_pred)\n",
    "mae = mean_absolute_error(y_true, y_pred)\n",
    "mape = mean_absolute_percentage_error(y_true, y_pred)\n",
    "\n",
    "# Format metrics with units and percentages\n",
    "metrics = {\n",
    "    \"RMSE (₹)\": f\"{rmse:,.2f}\",\n",
    "    \"MAE (₹)\": f\"{mae:,.2f}\",\n",
    "    \"MAPE (%)\": f\"{mape:.2%}\"\n",
    "}\n",
    "\n",
    "# Display metrics in a formatted table\n",
    "print(\"\\nModel Performance Metrics:\\n\")\n",
    "print(f\"{'Metric':<15} {'Value':>15}\")\n",
    "print(\"-\" * 30)\n",
    "for metric, value in metrics.items():\n",
    "    print(f\"{metric:<15} {value:>15}\")\n",
    "\n",
    "# Add a summary interpretation\n",
    "print(\"\\nInterpretation:\")\n",
    "print(f\"- RMSE: The model's predictions are typically off by ₹{rmse:,.2f} on average\")\n",
    "print(f\"- MAE: The average absolute error is ₹{mae:,.2f}\")\n",
    "print(f\"- MAPE: The predictions are off by {mape:.1%} on average\")"
   ]
  }
 ],
 "metadata": {
  "kernelspec": {
   "display_name": "Python 3",
   "language": "python",
   "name": "python3"
  },
  "language_info": {
   "codemirror_mode": {
    "name": "ipython",
    "version": 3
   },
   "file_extension": ".py",
   "mimetype": "text/x-python",
   "name": "python",
   "nbconvert_exporter": "python",
   "pygments_lexer": "ipython3",
   "version": "3.12.8"
  }
 },
 "nbformat": 4,
 "nbformat_minor": 2
}
