{
    "cells": [
        {
            "cell_type": "markdown",
            "metadata": {},
            "source": [
                "# 1. Importación de librerias"
            ]
        },
        {
            "cell_type": "code",
            "execution_count": 1,
            "metadata": {},
            "outputs": [],
            "source": [
                "from mapie.metrics import regression_coverage_score, regression_coverage_score_v2, regression_mean_width_score\n",
                "from mapie.regression import MapieQuantileRegressor\n",
                "\n",
                "from utils.transformations import ExtendedTransformation, SimpleTransformation\n",
                "from utils.filters import SimpleFilter\n",
                "import pandas as pd\n",
                "import numpy as np"
            ]
        },
        {
            "cell_type": "markdown",
            "metadata": {},
            "source": [
                "# 2. Preprocesamiento de los datos"
            ]
        },
        {
            "cell_type": "code",
            "execution_count": 2,
            "metadata": {},
            "outputs": [
                {
                    "name": "stdout",
                    "output_type": "stream",
                    "text": [
                        "X shape:  (20974, 40)\n",
                        "bin_vars_columns shape:  (36,)\n",
                        "low_card_columns shape:  37\n",
                        "X shape:  (20974, 40)\n",
                        "X_low_card   shape:  (20974, 113)\n",
                        "X_high_card shape:  (20974, 50)\n",
                        "X_crossed_features shape:  (20974, 6670)\n",
                        "X_EXPANDED shape:  (20974, 6835)\n",
                        "(20974, 6835)\n",
                        "(20974, 4173)\n",
                        "(20974, 3193)\n",
                        "(20974, 1635)\n",
                        "(20974, 4173)\n",
                        "(20974, 3193)\n",
                        "(20974, 1635)\n"
                    ]
                }
            ],
            "source": [
                "df_train = pd.read_csv(\"data/preprocessed/train_data.csv\")\n",
                "X_train, y_train = df_train.drop(columns=['Price']), df_train[['Price']]\n",
                "preprocessor = ExtendedTransformation()\n",
                "filter = SimpleFilter()\n",
                "preprocessor.fit(X_train, y_train)\n",
                "X_processed, y_processed = preprocessor.transform(X_train, y_train)\n",
                "filter.fit(X_processed, y_processed)\n",
                "X_filtered, y_filtered = filter.transform(X_processed, y_processed)"
            ]
        },
        {
            "cell_type": "code",
            "execution_count": 3,
            "metadata": {},
            "outputs": [
                {
                    "name": "stdout",
                    "output_type": "stream",
                    "text": [
                        "X shape:  (8989, 40)\n",
                        "X_low_card   shape:  (8989, 113)\n",
                        "X_high_card shape:  (8989, 50)\n",
                        "X_crossed_features shape:  (8989, 6670)\n",
                        "X_EXPANDED shape:  (8989, 6835)\n",
                        "(8989, 4173)\n",
                        "(8989, 3193)\n",
                        "(8989, 1635)\n"
                    ]
                }
            ],
            "source": [
                "df_test = pd.read_csv(\"data/preprocessed/test_data.csv\")\n",
                "X_test, y_test = df_test.drop(columns=['Price']), df_test[['Price']]\n",
                "X_test_proccesed, y_test_proccessed = preprocessor.transform(X_test, y_test)\n",
                "X_test_filtered, y_test_filtered = filter.transform(X_test_proccesed, y_test_proccessed)"
            ]
        },
        {
            "cell_type": "markdown",
            "metadata": {},
            "source": [
                "# 3. Optimización de hiperparámetros\n",
                "\n",
                "Optmizamos con el quantile 0.5, Aunque posteriormente apliquemos los quantiles que consideremos para nuestro intervalo"
            ]
        },
        {
            "cell_type": "code",
            "execution_count": 4,
            "metadata": {},
            "outputs": [],
            "source": [
                "# optimizamos para calcular el quantil medio con mejor precision.\n",
                "\n",
                "import optuna\n",
                "from sklearn.ensemble import GradientBoostingRegressor, HistGradientBoostingRegressor, RandomForestRegressor\n",
                "import sklearn.model_selection\n",
                "from sklearn.metrics import mean_pinball_loss, make_scorer\n",
                "def objective(trial):\n",
                "    x, y = X_filtered, y_filtered.flatten()\n",
                "\n",
                "    n_estimators = trial.suggest_int(\"n_estimators\", 10, 500, log=True)\n",
                "    max_depth = trial.suggest_int(\"max_depth\", 5, 32, log=True)\n",
                "    learning_rate = trial.suggest_float(\"learning_rate\", 0.001, 0.1, log=True)\n",
                "    estimator = HistGradientBoostingRegressor(max_iter=n_estimators, \n",
                "                                              max_depth=max_depth, \n",
                "                                              learning_rate=learning_rate,\n",
                "                                              loss = \"quantile\",\n",
                "                                              quantile = 0.5)\n",
                "\n",
                "    \n",
                "    score = make_scorer(mean_pinball_loss, alpha=0.5)\n",
                "    scoring = sklearn.model_selection.cross_val_score(estimator, x, y, n_jobs=-1, cv=3, scoring=score)\n",
                "\n",
                "    return scoring.mean()"
            ]
        },
        {
            "cell_type": "code",
            "execution_count": 5,
            "metadata": {},
            "outputs": [
                {
                    "name": "stderr",
                    "output_type": "stream",
                    "text": [
                        "[I 2025-05-06 14:45:26,473] A new study created in memory with name: no-name-5149af11-f526-464a-99d2-e55f10f239db\n",
                        "[I 2025-05-06 14:46:56,312] Trial 0 finished with value: 0.3245116894359663 and parameters: {'n_estimators': 419, 'max_depth': 6, 'learning_rate': 0.0023129811373935314}. Best is trial 0 with value: 0.3245116894359663.\n",
                        "[I 2025-05-06 14:47:21,370] Trial 1 finished with value: 0.34253444172440856 and parameters: {'n_estimators': 95, 'max_depth': 22, 'learning_rate': 0.007154349477115201}. Best is trial 0 with value: 0.3245116894359663.\n",
                        "[I 2025-05-06 14:47:39,652] Trial 2 finished with value: 0.30387445519675976 and parameters: {'n_estimators': 70, 'max_depth': 12, 'learning_rate': 0.01859927609869874}. Best is trial 2 with value: 0.30387445519675976.\n",
                        "[I 2025-05-06 14:47:45,305] Trial 3 finished with value: 0.428915028588845 and parameters: {'n_estimators': 15, 'max_depth': 23, 'learning_rate': 0.001146667896676238}. Best is trial 2 with value: 0.30387445519675976.\n",
                        "[I 2025-05-06 14:47:58,865] Trial 4 finished with value: 0.3777644590876031 and parameters: {'n_estimators': 49, 'max_depth': 31, 'learning_rate': 0.007021249208942357}. Best is trial 2 with value: 0.30387445519675976.\n",
                        "[I 2025-05-06 14:48:55,887] Trial 5 finished with value: 0.26947621677316014 and parameters: {'n_estimators': 366, 'max_depth': 6, 'learning_rate': 0.016786022463967456}. Best is trial 5 with value: 0.26947621677316014.\n",
                        "[I 2025-05-06 14:49:08,343] Trial 6 finished with value: 0.26514676173260826 and parameters: {'n_estimators': 48, 'max_depth': 13, 'learning_rate': 0.09550623879579195}. Best is trial 6 with value: 0.26514676173260826.\n",
                        "[I 2025-05-06 14:49:12,771] Trial 7 finished with value: 0.4244691531101998 and parameters: {'n_estimators': 11, 'max_depth': 32, 'learning_rate': 0.0036942080975608097}. Best is trial 6 with value: 0.26514676173260826.\n",
                        "[I 2025-05-06 14:49:53,727] Trial 8 finished with value: 0.3098444009403476 and parameters: {'n_estimators': 167, 'max_depth': 14, 'learning_rate': 0.007083732928115147}. Best is trial 6 with value: 0.26514676173260826.\n",
                        "[I 2025-05-06 14:50:44,082] Trial 9 finished with value: 0.33320710334406434 and parameters: {'n_estimators': 211, 'max_depth': 18, 'learning_rate': 0.003767153741642568}. Best is trial 6 with value: 0.26514676173260826.\n"
                    ]
                },
                {
                    "name": "stdout",
                    "output_type": "stream",
                    "text": [
                        "FrozenTrial(number=6, state=1, values=[0.26514676173260826], datetime_start=datetime.datetime(2025, 5, 6, 14, 48, 55, 888736), datetime_complete=datetime.datetime(2025, 5, 6, 14, 49, 8, 343209), params={'n_estimators': 48, 'max_depth': 13, 'learning_rate': 0.09550623879579195}, user_attrs={}, system_attrs={}, intermediate_values={}, distributions={'n_estimators': IntDistribution(high=500, log=True, low=10, step=1), 'max_depth': IntDistribution(high=32, log=True, low=5, step=1), 'learning_rate': FloatDistribution(high=0.1, log=True, low=0.001, step=None)}, trial_id=6, value=None)\n"
                    ]
                }
            ],
            "source": [
                "study = optuna.create_study(direction=\"minimize\")\n",
                "study.optimize(objective, n_trials=10)\n",
                "print(study.best_trial)"
            ]
        },
        {
            "cell_type": "code",
            "execution_count": 6,
            "metadata": {},
            "outputs": [
                {
                    "data": {
                        "text/plain": [
                            "{'n_estimators': 48, 'max_depth': 13, 'learning_rate': 0.09550623879579195}"
                        ]
                    },
                    "execution_count": 6,
                    "metadata": {},
                    "output_type": "execute_result"
                }
            ],
            "source": [
                "study.best_trial.params"
            ]
        },
        {
            "cell_type": "code",
            "execution_count": 7,
            "metadata": {},
            "outputs": [
                {
                    "data": {
                        "text/plain": [
                            "{'max_depth': 13,\n",
                            " 'learning_rate': 0.09550623879579195,\n",
                            " 'loss': 'quantile',\n",
                            " 'quantile': 0.5,\n",
                            " 'max_iter': 48}"
                        ]
                    },
                    "execution_count": 7,
                    "metadata": {},
                    "output_type": "execute_result"
                }
            ],
            "source": [
                "estimator_params = study.best_trial.params\n",
                "estimator_params['loss'] = \"quantile\"\n",
                "estimator_params['quantile'] = 0.5\n",
                "estimator_params['max_iter'] = estimator_params['n_estimators']\n",
                "del estimator_params['n_estimators']\n",
                "estimator_params"
            ]
        },
        {
            "cell_type": "markdown",
            "metadata": {},
            "source": [
                "# 4. Configuración del estimador base"
            ]
        },
        {
            "cell_type": "code",
            "execution_count": 8,
            "metadata": {},
            "outputs": [],
            "source": [
                "estimator = HistGradientBoostingRegressor(**estimator_params)"
            ]
        },
        {
            "cell_type": "markdown",
            "metadata": {},
            "source": [
                "# 5. Configuración del modelo mappie basado en quantile regressor"
            ]
        },
        {
            "cell_type": "code",
            "execution_count": 9,
            "metadata": {},
            "outputs": [],
            "source": [
                "alpha = 0.2 # 80% de confianza\n",
                "quantile_params = {\"method\": \"quantile\", \"cv\": \"split\", \"alpha\": alpha}"
            ]
        },
        {
            "cell_type": "code",
            "execution_count": 10,
            "metadata": {},
            "outputs": [
                {
                    "name": "stderr",
                    "output_type": "stream",
                    "text": [
                        "/Users/mmartin/opt/anaconda3/envs/modelizacion_datos/lib/python3.12/site-packages/sklearn/utils/validation.py:1339: DataConversionWarning: A column-vector y was passed when a 1d array was expected. Please change the shape of y to (n_samples, ), for example using ravel().\n",
                        "  y = column_or_1d(y, warn=True)\n",
                        "/Users/mmartin/opt/anaconda3/envs/modelizacion_datos/lib/python3.12/site-packages/sklearn/utils/validation.py:1339: DataConversionWarning: A column-vector y was passed when a 1d array was expected. Please change the shape of y to (n_samples, ), for example using ravel().\n",
                        "  y = column_or_1d(y, warn=True)\n"
                    ]
                },
                {
                    "data": {
                        "text/html": [
                            "<style>#sk-container-id-1 {\n",
                            "  /* Definition of color scheme common for light and dark mode */\n",
                            "  --sklearn-color-text: black;\n",
                            "  --sklearn-color-line: gray;\n",
                            "  /* Definition of color scheme for unfitted estimators */\n",
                            "  --sklearn-color-unfitted-level-0: #fff5e6;\n",
                            "  --sklearn-color-unfitted-level-1: #f6e4d2;\n",
                            "  --sklearn-color-unfitted-level-2: #ffe0b3;\n",
                            "  --sklearn-color-unfitted-level-3: chocolate;\n",
                            "  /* Definition of color scheme for fitted estimators */\n",
                            "  --sklearn-color-fitted-level-0: #f0f8ff;\n",
                            "  --sklearn-color-fitted-level-1: #d4ebff;\n",
                            "  --sklearn-color-fitted-level-2: #b3dbfd;\n",
                            "  --sklearn-color-fitted-level-3: cornflowerblue;\n",
                            "\n",
                            "  /* Specific color for light theme */\n",
                            "  --sklearn-color-text-on-default-background: var(--sg-text-color, var(--theme-code-foreground, var(--jp-content-font-color1, black)));\n",
                            "  --sklearn-color-background: var(--sg-background-color, var(--theme-background, var(--jp-layout-color0, white)));\n",
                            "  --sklearn-color-border-box: var(--sg-text-color, var(--theme-code-foreground, var(--jp-content-font-color1, black)));\n",
                            "  --sklearn-color-icon: #696969;\n",
                            "\n",
                            "  @media (prefers-color-scheme: dark) {\n",
                            "    /* Redefinition of color scheme for dark theme */\n",
                            "    --sklearn-color-text-on-default-background: var(--sg-text-color, var(--theme-code-foreground, var(--jp-content-font-color1, white)));\n",
                            "    --sklearn-color-background: var(--sg-background-color, var(--theme-background, var(--jp-layout-color0, #111)));\n",
                            "    --sklearn-color-border-box: var(--sg-text-color, var(--theme-code-foreground, var(--jp-content-font-color1, white)));\n",
                            "    --sklearn-color-icon: #878787;\n",
                            "  }\n",
                            "}\n",
                            "\n",
                            "#sk-container-id-1 {\n",
                            "  color: var(--sklearn-color-text);\n",
                            "}\n",
                            "\n",
                            "#sk-container-id-1 pre {\n",
                            "  padding: 0;\n",
                            "}\n",
                            "\n",
                            "#sk-container-id-1 input.sk-hidden--visually {\n",
                            "  border: 0;\n",
                            "  clip: rect(1px 1px 1px 1px);\n",
                            "  clip: rect(1px, 1px, 1px, 1px);\n",
                            "  height: 1px;\n",
                            "  margin: -1px;\n",
                            "  overflow: hidden;\n",
                            "  padding: 0;\n",
                            "  position: absolute;\n",
                            "  width: 1px;\n",
                            "}\n",
                            "\n",
                            "#sk-container-id-1 div.sk-dashed-wrapped {\n",
                            "  border: 1px dashed var(--sklearn-color-line);\n",
                            "  margin: 0 0.4em 0.5em 0.4em;\n",
                            "  box-sizing: border-box;\n",
                            "  padding-bottom: 0.4em;\n",
                            "  background-color: var(--sklearn-color-background);\n",
                            "}\n",
                            "\n",
                            "#sk-container-id-1 div.sk-container {\n",
                            "  /* jupyter's `normalize.less` sets `[hidden] { display: none; }`\n",
                            "     but bootstrap.min.css set `[hidden] { display: none !important; }`\n",
                            "     so we also need the `!important` here to be able to override the\n",
                            "     default hidden behavior on the sphinx rendered scikit-learn.org.\n",
                            "     See: https://github.com/scikit-learn/scikit-learn/issues/21755 */\n",
                            "  display: inline-block !important;\n",
                            "  position: relative;\n",
                            "}\n",
                            "\n",
                            "#sk-container-id-1 div.sk-text-repr-fallback {\n",
                            "  display: none;\n",
                            "}\n",
                            "\n",
                            "div.sk-parallel-item,\n",
                            "div.sk-serial,\n",
                            "div.sk-item {\n",
                            "  /* draw centered vertical line to link estimators */\n",
                            "  background-image: linear-gradient(var(--sklearn-color-text-on-default-background), var(--sklearn-color-text-on-default-background));\n",
                            "  background-size: 2px 100%;\n",
                            "  background-repeat: no-repeat;\n",
                            "  background-position: center center;\n",
                            "}\n",
                            "\n",
                            "/* Parallel-specific style estimator block */\n",
                            "\n",
                            "#sk-container-id-1 div.sk-parallel-item::after {\n",
                            "  content: \"\";\n",
                            "  width: 100%;\n",
                            "  border-bottom: 2px solid var(--sklearn-color-text-on-default-background);\n",
                            "  flex-grow: 1;\n",
                            "}\n",
                            "\n",
                            "#sk-container-id-1 div.sk-parallel {\n",
                            "  display: flex;\n",
                            "  align-items: stretch;\n",
                            "  justify-content: center;\n",
                            "  background-color: var(--sklearn-color-background);\n",
                            "  position: relative;\n",
                            "}\n",
                            "\n",
                            "#sk-container-id-1 div.sk-parallel-item {\n",
                            "  display: flex;\n",
                            "  flex-direction: column;\n",
                            "}\n",
                            "\n",
                            "#sk-container-id-1 div.sk-parallel-item:first-child::after {\n",
                            "  align-self: flex-end;\n",
                            "  width: 50%;\n",
                            "}\n",
                            "\n",
                            "#sk-container-id-1 div.sk-parallel-item:last-child::after {\n",
                            "  align-self: flex-start;\n",
                            "  width: 50%;\n",
                            "}\n",
                            "\n",
                            "#sk-container-id-1 div.sk-parallel-item:only-child::after {\n",
                            "  width: 0;\n",
                            "}\n",
                            "\n",
                            "/* Serial-specific style estimator block */\n",
                            "\n",
                            "#sk-container-id-1 div.sk-serial {\n",
                            "  display: flex;\n",
                            "  flex-direction: column;\n",
                            "  align-items: center;\n",
                            "  background-color: var(--sklearn-color-background);\n",
                            "  padding-right: 1em;\n",
                            "  padding-left: 1em;\n",
                            "}\n",
                            "\n",
                            "\n",
                            "/* Toggleable style: style used for estimator/Pipeline/ColumnTransformer box that is\n",
                            "clickable and can be expanded/collapsed.\n",
                            "- Pipeline and ColumnTransformer use this feature and define the default style\n",
                            "- Estimators will overwrite some part of the style using the `sk-estimator` class\n",
                            "*/\n",
                            "\n",
                            "/* Pipeline and ColumnTransformer style (default) */\n",
                            "\n",
                            "#sk-container-id-1 div.sk-toggleable {\n",
                            "  /* Default theme specific background. It is overwritten whether we have a\n",
                            "  specific estimator or a Pipeline/ColumnTransformer */\n",
                            "  background-color: var(--sklearn-color-background);\n",
                            "}\n",
                            "\n",
                            "/* Toggleable label */\n",
                            "#sk-container-id-1 label.sk-toggleable__label {\n",
                            "  cursor: pointer;\n",
                            "  display: block;\n",
                            "  width: 100%;\n",
                            "  margin-bottom: 0;\n",
                            "  padding: 0.5em;\n",
                            "  box-sizing: border-box;\n",
                            "  text-align: center;\n",
                            "}\n",
                            "\n",
                            "#sk-container-id-1 label.sk-toggleable__label-arrow:before {\n",
                            "  /* Arrow on the left of the label */\n",
                            "  content: \"▸\";\n",
                            "  float: left;\n",
                            "  margin-right: 0.25em;\n",
                            "  color: var(--sklearn-color-icon);\n",
                            "}\n",
                            "\n",
                            "#sk-container-id-1 label.sk-toggleable__label-arrow:hover:before {\n",
                            "  color: var(--sklearn-color-text);\n",
                            "}\n",
                            "\n",
                            "/* Toggleable content - dropdown */\n",
                            "\n",
                            "#sk-container-id-1 div.sk-toggleable__content {\n",
                            "  max-height: 0;\n",
                            "  max-width: 0;\n",
                            "  overflow: hidden;\n",
                            "  text-align: left;\n",
                            "  /* unfitted */\n",
                            "  background-color: var(--sklearn-color-unfitted-level-0);\n",
                            "}\n",
                            "\n",
                            "#sk-container-id-1 div.sk-toggleable__content.fitted {\n",
                            "  /* fitted */\n",
                            "  background-color: var(--sklearn-color-fitted-level-0);\n",
                            "}\n",
                            "\n",
                            "#sk-container-id-1 div.sk-toggleable__content pre {\n",
                            "  margin: 0.2em;\n",
                            "  border-radius: 0.25em;\n",
                            "  color: var(--sklearn-color-text);\n",
                            "  /* unfitted */\n",
                            "  background-color: var(--sklearn-color-unfitted-level-0);\n",
                            "}\n",
                            "\n",
                            "#sk-container-id-1 div.sk-toggleable__content.fitted pre {\n",
                            "  /* unfitted */\n",
                            "  background-color: var(--sklearn-color-fitted-level-0);\n",
                            "}\n",
                            "\n",
                            "#sk-container-id-1 input.sk-toggleable__control:checked~div.sk-toggleable__content {\n",
                            "  /* Expand drop-down */\n",
                            "  max-height: 200px;\n",
                            "  max-width: 100%;\n",
                            "  overflow: auto;\n",
                            "}\n",
                            "\n",
                            "#sk-container-id-1 input.sk-toggleable__control:checked~label.sk-toggleable__label-arrow:before {\n",
                            "  content: \"▾\";\n",
                            "}\n",
                            "\n",
                            "/* Pipeline/ColumnTransformer-specific style */\n",
                            "\n",
                            "#sk-container-id-1 div.sk-label input.sk-toggleable__control:checked~label.sk-toggleable__label {\n",
                            "  color: var(--sklearn-color-text);\n",
                            "  background-color: var(--sklearn-color-unfitted-level-2);\n",
                            "}\n",
                            "\n",
                            "#sk-container-id-1 div.sk-label.fitted input.sk-toggleable__control:checked~label.sk-toggleable__label {\n",
                            "  background-color: var(--sklearn-color-fitted-level-2);\n",
                            "}\n",
                            "\n",
                            "/* Estimator-specific style */\n",
                            "\n",
                            "/* Colorize estimator box */\n",
                            "#sk-container-id-1 div.sk-estimator input.sk-toggleable__control:checked~label.sk-toggleable__label {\n",
                            "  /* unfitted */\n",
                            "  background-color: var(--sklearn-color-unfitted-level-2);\n",
                            "}\n",
                            "\n",
                            "#sk-container-id-1 div.sk-estimator.fitted input.sk-toggleable__control:checked~label.sk-toggleable__label {\n",
                            "  /* fitted */\n",
                            "  background-color: var(--sklearn-color-fitted-level-2);\n",
                            "}\n",
                            "\n",
                            "#sk-container-id-1 div.sk-label label.sk-toggleable__label,\n",
                            "#sk-container-id-1 div.sk-label label {\n",
                            "  /* The background is the default theme color */\n",
                            "  color: var(--sklearn-color-text-on-default-background);\n",
                            "}\n",
                            "\n",
                            "/* On hover, darken the color of the background */\n",
                            "#sk-container-id-1 div.sk-label:hover label.sk-toggleable__label {\n",
                            "  color: var(--sklearn-color-text);\n",
                            "  background-color: var(--sklearn-color-unfitted-level-2);\n",
                            "}\n",
                            "\n",
                            "/* Label box, darken color on hover, fitted */\n",
                            "#sk-container-id-1 div.sk-label.fitted:hover label.sk-toggleable__label.fitted {\n",
                            "  color: var(--sklearn-color-text);\n",
                            "  background-color: var(--sklearn-color-fitted-level-2);\n",
                            "}\n",
                            "\n",
                            "/* Estimator label */\n",
                            "\n",
                            "#sk-container-id-1 div.sk-label label {\n",
                            "  font-family: monospace;\n",
                            "  font-weight: bold;\n",
                            "  display: inline-block;\n",
                            "  line-height: 1.2em;\n",
                            "}\n",
                            "\n",
                            "#sk-container-id-1 div.sk-label-container {\n",
                            "  text-align: center;\n",
                            "}\n",
                            "\n",
                            "/* Estimator-specific */\n",
                            "#sk-container-id-1 div.sk-estimator {\n",
                            "  font-family: monospace;\n",
                            "  border: 1px dotted var(--sklearn-color-border-box);\n",
                            "  border-radius: 0.25em;\n",
                            "  box-sizing: border-box;\n",
                            "  margin-bottom: 0.5em;\n",
                            "  /* unfitted */\n",
                            "  background-color: var(--sklearn-color-unfitted-level-0);\n",
                            "}\n",
                            "\n",
                            "#sk-container-id-1 div.sk-estimator.fitted {\n",
                            "  /* fitted */\n",
                            "  background-color: var(--sklearn-color-fitted-level-0);\n",
                            "}\n",
                            "\n",
                            "/* on hover */\n",
                            "#sk-container-id-1 div.sk-estimator:hover {\n",
                            "  /* unfitted */\n",
                            "  background-color: var(--sklearn-color-unfitted-level-2);\n",
                            "}\n",
                            "\n",
                            "#sk-container-id-1 div.sk-estimator.fitted:hover {\n",
                            "  /* fitted */\n",
                            "  background-color: var(--sklearn-color-fitted-level-2);\n",
                            "}\n",
                            "\n",
                            "/* Specification for estimator info (e.g. \"i\" and \"?\") */\n",
                            "\n",
                            "/* Common style for \"i\" and \"?\" */\n",
                            "\n",
                            ".sk-estimator-doc-link,\n",
                            "a:link.sk-estimator-doc-link,\n",
                            "a:visited.sk-estimator-doc-link {\n",
                            "  float: right;\n",
                            "  font-size: smaller;\n",
                            "  line-height: 1em;\n",
                            "  font-family: monospace;\n",
                            "  background-color: var(--sklearn-color-background);\n",
                            "  border-radius: 1em;\n",
                            "  height: 1em;\n",
                            "  width: 1em;\n",
                            "  text-decoration: none !important;\n",
                            "  margin-left: 1ex;\n",
                            "  /* unfitted */\n",
                            "  border: var(--sklearn-color-unfitted-level-1) 1pt solid;\n",
                            "  color: var(--sklearn-color-unfitted-level-1);\n",
                            "}\n",
                            "\n",
                            ".sk-estimator-doc-link.fitted,\n",
                            "a:link.sk-estimator-doc-link.fitted,\n",
                            "a:visited.sk-estimator-doc-link.fitted {\n",
                            "  /* fitted */\n",
                            "  border: var(--sklearn-color-fitted-level-1) 1pt solid;\n",
                            "  color: var(--sklearn-color-fitted-level-1);\n",
                            "}\n",
                            "\n",
                            "/* On hover */\n",
                            "div.sk-estimator:hover .sk-estimator-doc-link:hover,\n",
                            ".sk-estimator-doc-link:hover,\n",
                            "div.sk-label-container:hover .sk-estimator-doc-link:hover,\n",
                            ".sk-estimator-doc-link:hover {\n",
                            "  /* unfitted */\n",
                            "  background-color: var(--sklearn-color-unfitted-level-3);\n",
                            "  color: var(--sklearn-color-background);\n",
                            "  text-decoration: none;\n",
                            "}\n",
                            "\n",
                            "div.sk-estimator.fitted:hover .sk-estimator-doc-link.fitted:hover,\n",
                            ".sk-estimator-doc-link.fitted:hover,\n",
                            "div.sk-label-container:hover .sk-estimator-doc-link.fitted:hover,\n",
                            ".sk-estimator-doc-link.fitted:hover {\n",
                            "  /* fitted */\n",
                            "  background-color: var(--sklearn-color-fitted-level-3);\n",
                            "  color: var(--sklearn-color-background);\n",
                            "  text-decoration: none;\n",
                            "}\n",
                            "\n",
                            "/* Span, style for the box shown on hovering the info icon */\n",
                            ".sk-estimator-doc-link span {\n",
                            "  display: none;\n",
                            "  z-index: 9999;\n",
                            "  position: relative;\n",
                            "  font-weight: normal;\n",
                            "  right: .2ex;\n",
                            "  padding: .5ex;\n",
                            "  margin: .5ex;\n",
                            "  width: min-content;\n",
                            "  min-width: 20ex;\n",
                            "  max-width: 50ex;\n",
                            "  color: var(--sklearn-color-text);\n",
                            "  box-shadow: 2pt 2pt 4pt #999;\n",
                            "  /* unfitted */\n",
                            "  background: var(--sklearn-color-unfitted-level-0);\n",
                            "  border: .5pt solid var(--sklearn-color-unfitted-level-3);\n",
                            "}\n",
                            "\n",
                            ".sk-estimator-doc-link.fitted span {\n",
                            "  /* fitted */\n",
                            "  background: var(--sklearn-color-fitted-level-0);\n",
                            "  border: var(--sklearn-color-fitted-level-3);\n",
                            "}\n",
                            "\n",
                            ".sk-estimator-doc-link:hover span {\n",
                            "  display: block;\n",
                            "}\n",
                            "\n",
                            "/* \"?\"-specific style due to the `<a>` HTML tag */\n",
                            "\n",
                            "#sk-container-id-1 a.estimator_doc_link {\n",
                            "  float: right;\n",
                            "  font-size: 1rem;\n",
                            "  line-height: 1em;\n",
                            "  font-family: monospace;\n",
                            "  background-color: var(--sklearn-color-background);\n",
                            "  border-radius: 1rem;\n",
                            "  height: 1rem;\n",
                            "  width: 1rem;\n",
                            "  text-decoration: none;\n",
                            "  /* unfitted */\n",
                            "  color: var(--sklearn-color-unfitted-level-1);\n",
                            "  border: var(--sklearn-color-unfitted-level-1) 1pt solid;\n",
                            "}\n",
                            "\n",
                            "#sk-container-id-1 a.estimator_doc_link.fitted {\n",
                            "  /* fitted */\n",
                            "  border: var(--sklearn-color-fitted-level-1) 1pt solid;\n",
                            "  color: var(--sklearn-color-fitted-level-1);\n",
                            "}\n",
                            "\n",
                            "/* On hover */\n",
                            "#sk-container-id-1 a.estimator_doc_link:hover {\n",
                            "  /* unfitted */\n",
                            "  background-color: var(--sklearn-color-unfitted-level-3);\n",
                            "  color: var(--sklearn-color-background);\n",
                            "  text-decoration: none;\n",
                            "}\n",
                            "\n",
                            "#sk-container-id-1 a.estimator_doc_link.fitted:hover {\n",
                            "  /* fitted */\n",
                            "  background-color: var(--sklearn-color-fitted-level-3);\n",
                            "}\n",
                            "</style><div id=\"sk-container-id-1\" class=\"sk-top-container\"><div class=\"sk-text-repr-fallback\"><pre>MapieQuantileRegressor(alpha=0.2, cv=&#x27;split&#x27;,\n",
                            "                       estimator=HistGradientBoostingRegressor(learning_rate=0.09550623879579195,\n",
                            "                                                               loss=&#x27;quantile&#x27;,\n",
                            "                                                               max_depth=13,\n",
                            "                                                               max_iter=48,\n",
                            "                                                               quantile=0.5))</pre><b>In a Jupyter environment, please rerun this cell to show the HTML representation or trust the notebook. <br />On GitHub, the HTML representation is unable to render, please try loading this page with nbviewer.org.</b></div><div class=\"sk-container\" hidden><div class=\"sk-item sk-dashed-wrapped\"><div class=\"sk-label-container\"><div class=\"sk-label fitted sk-toggleable\"><input class=\"sk-toggleable__control sk-hidden--visually\" id=\"sk-estimator-id-1\" type=\"checkbox\" ><label for=\"sk-estimator-id-1\" class=\"sk-toggleable__label fitted sk-toggleable__label-arrow fitted\">&nbsp;MapieQuantileRegressor<span class=\"sk-estimator-doc-link fitted\">i<span>Fitted</span></span></label><div class=\"sk-toggleable__content fitted\"><pre>MapieQuantileRegressor(alpha=0.2, cv=&#x27;split&#x27;,\n",
                            "                       estimator=HistGradientBoostingRegressor(learning_rate=0.09550623879579195,\n",
                            "                                                               loss=&#x27;quantile&#x27;,\n",
                            "                                                               max_depth=13,\n",
                            "                                                               max_iter=48,\n",
                            "                                                               quantile=0.5))</pre></div> </div></div><div class=\"sk-parallel\"><div class=\"sk-parallel-item\"><div class=\"sk-item\"><div class=\"sk-label-container\"><div class=\"sk-label fitted sk-toggleable\"><input class=\"sk-toggleable__control sk-hidden--visually\" id=\"sk-estimator-id-2\" type=\"checkbox\" ><label for=\"sk-estimator-id-2\" class=\"sk-toggleable__label fitted sk-toggleable__label-arrow fitted\">estimator: HistGradientBoostingRegressor</label><div class=\"sk-toggleable__content fitted\"><pre>HistGradientBoostingRegressor(learning_rate=0.09550623879579195,\n",
                            "                              loss=&#x27;quantile&#x27;, max_depth=13, max_iter=48,\n",
                            "                              quantile=0.5)</pre></div> </div></div><div class=\"sk-serial\"><div class=\"sk-item\"><div class=\"sk-estimator fitted sk-toggleable\"><input class=\"sk-toggleable__control sk-hidden--visually\" id=\"sk-estimator-id-3\" type=\"checkbox\" ><label for=\"sk-estimator-id-3\" class=\"sk-toggleable__label fitted sk-toggleable__label-arrow fitted\">&nbsp;HistGradientBoostingRegressor<a class=\"sk-estimator-doc-link fitted\" rel=\"noreferrer\" target=\"_blank\" href=\"https://scikit-learn.org/1.5/modules/generated/sklearn.ensemble.HistGradientBoostingRegressor.html\">?<span>Documentation for HistGradientBoostingRegressor</span></a></label><div class=\"sk-toggleable__content fitted\"><pre>HistGradientBoostingRegressor(learning_rate=0.09550623879579195,\n",
                            "                              loss=&#x27;quantile&#x27;, max_depth=13, max_iter=48,\n",
                            "                              quantile=0.5)</pre></div> </div></div></div></div></div></div></div></div></div>"
                        ],
                        "text/plain": [
                            "MapieQuantileRegressor(alpha=0.2, cv='split',\n",
                            "                       estimator=HistGradientBoostingRegressor(learning_rate=0.09550623879579195,\n",
                            "                                                               loss='quantile',\n",
                            "                                                               max_depth=13,\n",
                            "                                                               max_iter=48,\n",
                            "                                                               quantile=0.5))"
                        ]
                    },
                    "execution_count": 10,
                    "metadata": {},
                    "output_type": "execute_result"
                }
            ],
            "source": [
                "mapie = MapieQuantileRegressor(estimator, **quantile_params)\n",
                "mapie.fit(\n",
                "            X_filtered, \n",
                "            y_filtered,\n",
                "            calib_size=0.3,\n",
                "            random_state=0\n",
                "        )\n"
            ]
        },
        {
            "cell_type": "markdown",
            "metadata": {},
            "source": [
                "# 6. Predicción de los datos de test"
            ]
        },
        {
            "cell_type": "code",
            "execution_count": 11,
            "metadata": {},
            "outputs": [
                {
                    "name": "stderr",
                    "output_type": "stream",
                    "text": [
                        "INFO:root:The predictions are ill-sorted.\n",
                        "INFO:root:The predictions are ill-sorted.\n"
                    ]
                }
            ],
            "source": [
                "y_pred, y_pis = mapie.predict(X_test_filtered)"
            ]
        },
        {
            "cell_type": "code",
            "execution_count": 12,
            "metadata": {},
            "outputs": [
                {
                    "name": "stderr",
                    "output_type": "stream",
                    "text": [
                        "/Users/mmartin/opt/anaconda3/envs/modelizacion_datos/lib/python3.12/site-packages/sklearn/base.py:493: UserWarning: X does not have valid feature names, but QuantileTransformer was fitted with feature names\n",
                        "  warnings.warn(\n"
                    ]
                },
                {
                    "data": {
                        "text/plain": [
                            "array([[2616183.78196681],\n",
                            "       [3427044.25554149],\n",
                            "       [2469686.86245631],\n",
                            "       ...,\n",
                            "       [2000000.        ],\n",
                            "       [9500000.        ],\n",
                            "       [2800175.99738977]])"
                        ]
                    },
                    "execution_count": 12,
                    "metadata": {},
                    "output_type": "execute_result"
                }
            ],
            "source": [
                "y_pis[:,0]\n",
                "preprocessor.inverse_transform(y_pis[:,0])"
            ]
        },
        {
            "cell_type": "code",
            "execution_count": 13,
            "metadata": {},
            "outputs": [
                {
                    "name": "stderr",
                    "output_type": "stream",
                    "text": [
                        "/Users/mmartin/opt/anaconda3/envs/modelizacion_datos/lib/python3.12/site-packages/sklearn/base.py:493: UserWarning: X does not have valid feature names, but QuantileTransformer was fitted with feature names\n",
                        "  warnings.warn(\n",
                        "/Users/mmartin/opt/anaconda3/envs/modelizacion_datos/lib/python3.12/site-packages/sklearn/base.py:493: UserWarning: X does not have valid feature names, but QuantileTransformer was fitted with feature names\n",
                        "  warnings.warn(\n",
                        "/Users/mmartin/opt/anaconda3/envs/modelizacion_datos/lib/python3.12/site-packages/sklearn/base.py:493: UserWarning: X does not have valid feature names, but QuantileTransformer was fitted with feature names\n",
                        "  warnings.warn(\n"
                    ]
                }
            ],
            "source": [
                "# convert to original scale\n",
                "y_mediam = preprocessor.inverse_transform(y_pred.reshape(-1,1))\n",
                "y_low = preprocessor.inverse_transform(y_pis[:,0])\n",
                "y_high = preprocessor.inverse_transform(y_pis[:,1])\n"
            ]
        },
        {
            "cell_type": "markdown",
            "metadata": {},
            "source": [
                "# 7. Evaluación de cobertura y longitud media"
            ]
        },
        {
            "cell_type": "code",
            "execution_count": 15,
            "metadata": {},
            "outputs": [
                {
                    "name": "stdout",
                    "output_type": "stream",
                    "text": [
                        "regresion coverage: 0.7970853265101792\n",
                        "interval mean width: 15865322.680892356\n"
                    ]
                }
            ],
            "source": [
                "# evaluamos su cobertura, para ver si realmente en el 80% de los casos el valor real está dentro del intervalo mostrado.\n",
                "coverage = regression_coverage_score(y_test, y_low, y_high)\n",
                "mean_width = regression_mean_width_score(y_low, y_high)\n",
                "\n",
                "print(f\"regresion coverage: {coverage}\")\n",
                "print(f\"interval mean width: {mean_width}\")"
            ]
        },
        {
            "cell_type": "markdown",
            "metadata": {},
            "source": [
                "# 8. Guardar los modelos para su exportación a un entorno de serving/inferencia"
            ]
        },
        {
            "cell_type": "code",
            "execution_count": 16,
            "metadata": {},
            "outputs": [],
            "source": [
                "import os\n",
                "import pickle\n",
                "\n",
                "CHECKPOINTS_DIR = \"checkpoints\"\n",
                "# Save the objects\n",
                "with open(os.path.join(CHECKPOINTS_DIR, \"preprocessor.pkl\"), \"wb\") as f:\n",
                "    pickle.dump(preprocessor, f)\n",
                "\n",
                "with open(os.path.join(CHECKPOINTS_DIR, \"filter.pkl\"), \"wb\") as f:\n",
                "    pickle.dump(filter, f)\n",
                "\n",
                "with open(os.path.join(CHECKPOINTS_DIR, \"model_with_intervals.pkl\"), \"wb\") as f:\n",
                "    pickle.dump(mapie, f)"
            ]
        },
        {
            "cell_type": "markdown",
            "metadata": {},
            "source": [
                "# 9. comprobar que se pueden recuperar los modelos y ejecutar correctamente"
            ]
        },
        {
            "cell_type": "code",
            "execution_count": 20,
            "metadata": {},
            "outputs": [],
            "source": [
                "# Load the objects\n",
                "with open(os.path.join(CHECKPOINTS_DIR, \"preprocessor.pkl\"), \"rb\") as f:\n",
                "    my_preprocessor = pickle.load(f)\n",
                "\n",
                "with open(os.path.join(CHECKPOINTS_DIR, \"filter.pkl\"), \"rb\") as f:\n",
                "    my_filter = pickle.load(f)\n",
                "\n",
                "with open(os.path.join(CHECKPOINTS_DIR, \"model_with_intervals.pkl\"), \"rb\") as f:\n",
                "    model_w_intervals = pickle.load(f)"
            ]
        },
        {
            "cell_type": "code",
            "execution_count": null,
            "metadata": {},
            "outputs": [
                {
                    "name": "stdout",
                    "output_type": "stream",
                    "text": [
                        "X shape:  (8989, 40)\n",
                        "X_low_card   shape:  (8989, 113)\n",
                        "X_high_card shape:  (8989, 50)\n",
                        "X_crossed_features shape:  (8989, 6670)\n",
                        "X_EXPANDED shape:  (8989, 6835)\n"
                    ]
                }
            ],
            "source": [
                "# preprocesamos\n",
                "X_processed, y_processed = my_preprocessor.transform(X_test, y_test)\n"
            ]
        },
        {
            "cell_type": "code",
            "execution_count": null,
            "metadata": {},
            "outputs": [
                {
                    "name": "stdout",
                    "output_type": "stream",
                    "text": [
                        "(8989, 4173)\n",
                        "(8989, 3193)\n",
                        "(8989, 1635)\n"
                    ]
                }
            ],
            "source": [
                "# filtramos\n",
                "X_filtered, y_filtered = my_filter.transform(X_processed, y_processed)"
            ]
        },
        {
            "cell_type": "code",
            "execution_count": null,
            "metadata": {},
            "outputs": [
                {
                    "name": "stderr",
                    "output_type": "stream",
                    "text": [
                        "INFO:root:The predictions are ill-sorted.\n",
                        "INFO:root:The predictions are ill-sorted.\n"
                    ]
                }
            ],
            "source": [
                "# predecimos\n",
                "pred, intervals = model_w_intervals.predict(X_filtered)"
            ]
        },
        {
            "cell_type": "code",
            "execution_count": null,
            "metadata": {},
            "outputs": [
                {
                    "name": "stderr",
                    "output_type": "stream",
                    "text": [
                        "/Users/mmartin/opt/anaconda3/envs/modelizacion_datos/lib/python3.12/site-packages/sklearn/base.py:493: UserWarning: X does not have valid feature names, but QuantileTransformer was fitted with feature names\n",
                        "  warnings.warn(\n",
                        "/Users/mmartin/opt/anaconda3/envs/modelizacion_datos/lib/python3.12/site-packages/sklearn/base.py:493: UserWarning: X does not have valid feature names, but QuantileTransformer was fitted with feature names\n",
                        "  warnings.warn(\n",
                        "/Users/mmartin/opt/anaconda3/envs/modelizacion_datos/lib/python3.12/site-packages/sklearn/base.py:493: UserWarning: X does not have valid feature names, but QuantileTransformer was fitted with feature names\n",
                        "  warnings.warn(\n"
                    ]
                }
            ],
            "source": [
                "# transformamos a la escala adecuada.\n",
                "y_mediam = my_preprocessor.inverse_transform(y_pred.reshape(-1,1))\n",
                "y_low = my_preprocessor.inverse_transform(y_pis[:,0])\n",
                "y_high = my_preprocessor.inverse_transform(y_pis[:,1])"
            ]
        },
        {
            "cell_type": "code",
            "execution_count": 27,
            "metadata": {},
            "outputs": [
                {
                    "name": "stdout",
                    "output_type": "stream",
                    "text": [
                        "regresion coverage: 0.7970853265101792\n",
                        "interval mean width: 15865322.680892356\n"
                    ]
                }
            ],
            "source": [
                "# evaluamos su cobertura, para ver si realmente en el 80% de los casos el valor real está dentro del intervalo mostrado.\n",
                "coverage = regression_coverage_score(y_test, y_low, y_high)\n",
                "mean_width = regression_mean_width_score(y_low, y_high)\n",
                "\n",
                "print(f\"regresion coverage: {coverage}\")\n",
                "print(f\"interval mean width: {mean_width}\")"
            ]
        }
    ],
    "metadata": {
        "kernelspec": {
            "display_name": "modelizacion_datos",
            "language": "python",
            "name": "python3"
        },
        "language_info": {
            "codemirror_mode": {
                "name": "ipython",
                "version": 3
            },
            "file_extension": ".py",
            "mimetype": "text/x-python",
            "name": "python",
            "nbconvert_exporter": "python",
            "pygments_lexer": "ipython3",
            "version": "3.12.8"
        }
    },
    "nbformat": 4,
    "nbformat_minor": 2
}
